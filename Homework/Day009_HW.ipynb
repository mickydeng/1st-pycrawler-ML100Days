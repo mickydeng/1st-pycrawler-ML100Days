{
 "cells": [
  {
   "cell_type": "markdown",
   "metadata": {},
   "source": [
    "# 作業\n",
    "\n",
    "以正確的副檔名下載網頁中的圖片\n",
    "範例網頁:https://www.ptt.cc/bbs/Beauty/M.1556291059.A.75A.html\n",
    "\n",
    "Note：因為 PTT 會詢問「是否滿 18 歲」，這邊可以用 cookies 繞過\n",
    "\n",
    "`requests.get(URL, cookies={'over18': '1'}`\n"
   ]
  },
  {
   "cell_type": "code",
   "execution_count": 6,
   "metadata": {},
   "outputs": [],
   "source": [
    "import requests\n",
    "import os\n",
    "\n",
    "from bs4 import BeautifulSoup\n",
    "from PIL import Image\n",
    "import matplotlib.pyplot as plt"
   ]
  },
  {
   "cell_type": "code",
   "execution_count": 7,
   "metadata": {},
   "outputs": [
    {
     "name": "stderr",
     "output_type": "stream",
     "text": [
      "D:\\major\\Anaconda3\\envs\\tensorflow-gpu\\lib\\site-packages\\bs4\\__init__.py:181: UserWarning: No parser was explicitly specified, so I'm using the best available HTML parser for this system (\"lxml\"). This usually isn't a problem, but if you run this code on another system, or in a different virtual environment, it may use a different parser and behave differently.\n",
      "\n",
      "The code that caused this warning is on line 193 of the file D:\\major\\Anaconda3\\envs\\tensorflow-gpu\\lib\\runpy.py. To get rid of this warning, change code that looks like this:\n",
      "\n",
      " BeautifulSoup(YOUR_MARKUP})\n",
      "\n",
      "to this:\n",
      "\n",
      " BeautifulSoup(YOUR_MARKUP, \"lxml\")\n",
      "\n",
      "  markup_type=markup_type))\n"
     ]
    }
   ],
   "source": [
    "url = 'https://www.ptt.cc/bbs/Beauty/M.1576427818.A.163.html'\n",
    "resp = requests.get(url, cookies={'over18': '1'})\n",
    "soup = BeautifulSoup(resp.text)"
   ]
  },
  {
   "cell_type": "code",
   "execution_count": 12,
   "metadata": {},
   "outputs": [
    {
     "name": "stdout",
     "output_type": "stream",
     "text": [
      "Save image downloads/Ba87Qsk.jpg.jpeg\n",
      "Save image downloads/4aRWfuj.jpg.jpeg\n",
      "Save image downloads/oykC0eA.jpg.jpeg\n",
      "Save image downloads/sMzToXD.jpg.jpeg\n",
      "Save image downloads/EVb7gN6.jpg.jpeg\n"
     ]
    }
   ],
   "source": [
    "# 決定要儲存的資料夾\n",
    "output_dir = 'downloads'\n",
    "\n",
    "# 假如資料夾不存在就新增一個資料夾\n",
    "if not os.path.exists(output_dir):\n",
    "    os.makedirs(output_dir)\n",
    "\n",
    "# 定位所有圖片的 tag\n",
    "image_tags = soup.find(id='main-content').findChildren('a', recursive=False)\n",
    "for img_tag in image_tags:\n",
    "    # 取得所有圖片在第三方服務的 id\n",
    "    if 'imgur' not in img_tag['href']:\n",
    "        continue\n",
    "    img_id = img_tag['href'].split('/')[-1]\n",
    "    # 組合圖片而非網站的網址\n",
    "    img_url = \"https://i.imgur.com/{}.jpg'\".format(img_id)\n",
    "    # 對圖片送出請求\n",
    "    with requests.get(img_url, stream=True) as r:\n",
    "        r.raise_for_status()\n",
    "        img = Image.open(r.raw)\n",
    "        img_savename = '{outdir}/{img_id}.{img_ext}'.format(\n",
    "            outdir=output_dir, img_id=img_id, img_ext=img.format.lower())\n",
    "        img.save(img_savename)\n",
    "        print('Save image {}'.format(img_savename))\n",
    "#         plt.imshow(img)\n",
    "#         plt.axis('off') # 不显示坐标轴\n",
    "#         plt.show()"
   ]
  },
  {
   "cell_type": "code",
   "execution_count": null,
   "metadata": {},
   "outputs": [],
   "source": []
  }
 ],
 "metadata": {
  "kernelspec": {
   "display_name": "Python 3",
   "language": "python",
   "name": "python3"
  },
  "language_info": {
   "codemirror_mode": {
    "name": "ipython",
    "version": 3
   },
   "file_extension": ".py",
   "mimetype": "text/x-python",
   "name": "python",
   "nbconvert_exporter": "python",
   "pygments_lexer": "ipython3",
   "version": "3.5.5"
  }
 },
 "nbformat": 4,
 "nbformat_minor": 2
}
