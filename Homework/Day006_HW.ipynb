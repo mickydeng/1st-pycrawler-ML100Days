{
 "cells": [
  {
   "cell_type": "markdown",
   "metadata": {},
   "source": [
    "# API 資料串接 - 以 知乎 API 實作範例\n",
    "\n",
    "\n",
    "\n",
    "* 了解知乎 API 使用方式與回傳內容\n",
    "* 撰寫程式存取 API 且添加標頭\n",
    "\n",
    "\n"
   ]
  },
  {
   "cell_type": "markdown",
   "metadata": {},
   "source": [
    "## 作業目標\n",
    "\n",
    "* 根據範例提供的 API ，完成以下問題：\n",
    "\n",
    "    1. 取出知乎問題發問時間\n",
    "    2. 取出第一筆與最後一筆回答的時間\n"
   ]
  },
  {
   "cell_type": "markdown",
   "metadata": {},
   "source": [
    "### 1. 取出知乎問題發問時間"
   ]
  },
  {
   "cell_type": "code",
   "execution_count": 2,
   "metadata": {
    "scrolled": false
   },
   "outputs": [
    {
     "name": "stdout",
     "output_type": "stream",
     "text": [
      "2017-02-06 14:10:29\n"
     ]
    }
   ],
   "source": [
    "# 1. 取出知乎問題發問時間\n",
    "\n",
    "import requests\n",
    "import json\n",
    "from datetime import datetime\n",
    "header = {'user-agent': 'my-app/0.0.1'}\n",
    "r = requests.get('https://www.zhihu.com/api/v4/questions/55493026/answers',headers = header)\n",
    "response = r.text\n",
    "\n",
    "data = json.loads(response)\n",
    "question = data['data'][0]['question']\n",
    "print(datetime.utcfromtimestamp(question['created']))"
   ]
  },
  {
   "cell_type": "markdown",
   "metadata": {},
   "source": [
    "#### Dataframe呈現"
   ]
  },
  {
   "cell_type": "code",
   "execution_count": 12,
   "metadata": {},
   "outputs": [
    {
     "name": "stdout",
     "output_type": "stream",
     "text": [
      "2017-02-06 14:10:29\n"
     ]
    },
    {
     "data": {
      "text/html": [
       "<div>\n",
       "<style scoped>\n",
       "    .dataframe tbody tr th:only-of-type {\n",
       "        vertical-align: middle;\n",
       "    }\n",
       "\n",
       "    .dataframe tbody tr th {\n",
       "        vertical-align: top;\n",
       "    }\n",
       "\n",
       "    .dataframe thead th {\n",
       "        text-align: right;\n",
       "    }\n",
       "</style>\n",
       "<table border=\"1\" class=\"dataframe\">\n",
       "  <thead>\n",
       "    <tr style=\"text-align: right;\">\n",
       "      <th></th>\n",
       "      <th>answer_type</th>\n",
       "      <th>author</th>\n",
       "      <th>created_time</th>\n",
       "      <th>extras</th>\n",
       "      <th>id</th>\n",
       "      <th>is_collapsed</th>\n",
       "      <th>is_copyable</th>\n",
       "      <th>question</th>\n",
       "      <th>relationship</th>\n",
       "      <th>type</th>\n",
       "      <th>updated_time</th>\n",
       "      <th>url</th>\n",
       "    </tr>\n",
       "  </thead>\n",
       "  <tbody>\n",
       "    <tr>\n",
       "      <th>0</th>\n",
       "      <td>normal</td>\n",
       "      <td>{'id': '36f69162230003d316d0b8a6d8da20ba', 'av...</td>\n",
       "      <td>1557824412</td>\n",
       "      <td></td>\n",
       "      <td>683070334</td>\n",
       "      <td>False</td>\n",
       "      <td>True</td>\n",
       "      <td>{'type': 'question', 'created': 1486390229, 'q...</td>\n",
       "      <td>{'upvoted_followees': []}</td>\n",
       "      <td>answer</td>\n",
       "      <td>1557824412</td>\n",
       "      <td>https://www.zhihu.com/api/v4/answers/683070334</td>\n",
       "    </tr>\n",
       "    <tr>\n",
       "      <th>1</th>\n",
       "      <td>normal</td>\n",
       "      <td>{'id': 'e8c4768eaa41e3749f7e8bc5ac6aa74b', 'av...</td>\n",
       "      <td>1554085028</td>\n",
       "      <td></td>\n",
       "      <td>637938925</td>\n",
       "      <td>False</td>\n",
       "      <td>True</td>\n",
       "      <td>{'type': 'question', 'created': 1486390229, 'q...</td>\n",
       "      <td>{'upvoted_followees': []}</td>\n",
       "      <td>answer</td>\n",
       "      <td>1558451618</td>\n",
       "      <td>https://www.zhihu.com/api/v4/answers/637938925</td>\n",
       "    </tr>\n",
       "    <tr>\n",
       "      <th>2</th>\n",
       "      <td>normal</td>\n",
       "      <td>{'id': '788f207a6bf8f66c5bad79bd0f011065', 'av...</td>\n",
       "      <td>1493707703</td>\n",
       "      <td></td>\n",
       "      <td>163642949</td>\n",
       "      <td>False</td>\n",
       "      <td>False</td>\n",
       "      <td>{'type': 'question', 'created': 1486390229, 'q...</td>\n",
       "      <td>{'upvoted_followees': []}</td>\n",
       "      <td>answer</td>\n",
       "      <td>1493708357</td>\n",
       "      <td>https://www.zhihu.com/api/v4/answers/163642949</td>\n",
       "    </tr>\n",
       "    <tr>\n",
       "      <th>3</th>\n",
       "      <td>normal</td>\n",
       "      <td>{'id': 'eaf435b228ce0b038a4afe8203f59b49', 'av...</td>\n",
       "      <td>1493693113</td>\n",
       "      <td></td>\n",
       "      <td>163537026</td>\n",
       "      <td>False</td>\n",
       "      <td>True</td>\n",
       "      <td>{'type': 'question', 'created': 1486390229, 'q...</td>\n",
       "      <td>{'upvoted_followees': []}</td>\n",
       "      <td>answer</td>\n",
       "      <td>1555137867</td>\n",
       "      <td>https://www.zhihu.com/api/v4/answers/163537026</td>\n",
       "    </tr>\n",
       "    <tr>\n",
       "      <th>4</th>\n",
       "      <td>normal</td>\n",
       "      <td>{'id': '4d1c2c77bc7431c2a6006d154198e8b9', 'av...</td>\n",
       "      <td>1572318426</td>\n",
       "      <td></td>\n",
       "      <td>873825546</td>\n",
       "      <td>False</td>\n",
       "      <td>False</td>\n",
       "      <td>{'type': 'question', 'created': 1486390229, 'q...</td>\n",
       "      <td>{'upvoted_followees': []}</td>\n",
       "      <td>answer</td>\n",
       "      <td>1574756054</td>\n",
       "      <td>https://www.zhihu.com/api/v4/answers/873825546</td>\n",
       "    </tr>\n",
       "  </tbody>\n",
       "</table>\n",
       "</div>"
      ],
      "text/plain": [
       "  answer_type                                             author  \\\n",
       "0      normal  {'id': '36f69162230003d316d0b8a6d8da20ba', 'av...   \n",
       "1      normal  {'id': 'e8c4768eaa41e3749f7e8bc5ac6aa74b', 'av...   \n",
       "2      normal  {'id': '788f207a6bf8f66c5bad79bd0f011065', 'av...   \n",
       "3      normal  {'id': 'eaf435b228ce0b038a4afe8203f59b49', 'av...   \n",
       "4      normal  {'id': '4d1c2c77bc7431c2a6006d154198e8b9', 'av...   \n",
       "\n",
       "   created_time extras         id  is_collapsed  is_copyable  \\\n",
       "0    1557824412         683070334         False         True   \n",
       "1    1554085028         637938925         False         True   \n",
       "2    1493707703         163642949         False        False   \n",
       "3    1493693113         163537026         False         True   \n",
       "4    1572318426         873825546         False        False   \n",
       "\n",
       "                                            question  \\\n",
       "0  {'type': 'question', 'created': 1486390229, 'q...   \n",
       "1  {'type': 'question', 'created': 1486390229, 'q...   \n",
       "2  {'type': 'question', 'created': 1486390229, 'q...   \n",
       "3  {'type': 'question', 'created': 1486390229, 'q...   \n",
       "4  {'type': 'question', 'created': 1486390229, 'q...   \n",
       "\n",
       "                relationship    type  updated_time  \\\n",
       "0  {'upvoted_followees': []}  answer    1557824412   \n",
       "1  {'upvoted_followees': []}  answer    1558451618   \n",
       "2  {'upvoted_followees': []}  answer    1493708357   \n",
       "3  {'upvoted_followees': []}  answer    1555137867   \n",
       "4  {'upvoted_followees': []}  answer    1574756054   \n",
       "\n",
       "                                              url  \n",
       "0  https://www.zhihu.com/api/v4/answers/683070334  \n",
       "1  https://www.zhihu.com/api/v4/answers/637938925  \n",
       "2  https://www.zhihu.com/api/v4/answers/163642949  \n",
       "3  https://www.zhihu.com/api/v4/answers/163537026  \n",
       "4  https://www.zhihu.com/api/v4/answers/873825546  "
      ]
     },
     "execution_count": 12,
     "metadata": {},
     "output_type": "execute_result"
    }
   ],
   "source": [
    "import pandas as pd\n",
    "\n",
    "data2 = pd.DataFrame.from_dict(data['data'])\n",
    "print(datetime.utcfromtimestamp(data2['question'].iloc[0]['created']))\n",
    "data2"
   ]
  },
  {
   "cell_type": "markdown",
   "metadata": {},
   "source": [
    "### 2. 取出第一筆與最後一筆回答的時間"
   ]
  },
  {
   "cell_type": "code",
   "execution_count": 14,
   "metadata": {},
   "outputs": [
    {
     "name": "stdout",
     "output_type": "stream",
     "text": [
      "第一筆回答時間: 2019-05-14 09:00:12\n",
      "最後一筆回答時間: 2019-10-29 03:07:06\n"
     ]
    }
   ],
   "source": [
    "# 2. 取出第一筆與最後一筆回答的時間\n",
    "\n",
    "fst_ans = data['data'][0]['created_time']\n",
    "lst_ans = data['data'][-1]['created_time']\n",
    "print('第一筆回答時間:', datetime.utcfromtimestamp(fst_ans))\n",
    "print('最後一筆回答時間:', datetime.utcfromtimestamp(lst_ans))\n"
   ]
  },
  {
   "cell_type": "markdown",
   "metadata": {},
   "source": [
    "#### Dataframe呈現"
   ]
  },
  {
   "cell_type": "code",
   "execution_count": 15,
   "metadata": {},
   "outputs": [
    {
     "name": "stdout",
     "output_type": "stream",
     "text": [
      "第一筆回答時間: 2019-05-14 09:00:12\n",
      "最後一筆回答時間: 2019-10-29 03:07:06\n"
     ]
    }
   ],
   "source": [
    "df_fst_ans = data2['created_time'].iloc[0]\n",
    "df_lst_ans = data2['created_time'].iloc[-1]\n",
    "\n",
    "print('第一筆回答時間:', datetime.utcfromtimestamp(df_fst_ans))\n",
    "print('最後一筆回答時間:', datetime.utcfromtimestamp(df_lst_ans))\n"
   ]
  },
  {
   "cell_type": "code",
   "execution_count": null,
   "metadata": {},
   "outputs": [],
   "source": []
  },
  {
   "cell_type": "code",
   "execution_count": null,
   "metadata": {},
   "outputs": [],
   "source": []
  }
 ],
 "metadata": {
  "kernelspec": {
   "display_name": "Python 3",
   "language": "python",
   "name": "python3"
  },
  "language_info": {
   "codemirror_mode": {
    "name": "ipython",
    "version": 3
   },
   "file_extension": ".py",
   "mimetype": "text/x-python",
   "name": "python",
   "nbconvert_exporter": "python",
   "pygments_lexer": "ipython3",
   "version": "3.5.5"
  }
 },
 "nbformat": 4,
 "nbformat_minor": 2
}
