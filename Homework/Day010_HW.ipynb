{
 "cells": [
  {
   "cell_type": "markdown",
   "metadata": {},
   "source": [
    "# 其他工具：Grab、PyQuery\n",
    "\n",
    "\n",
    "* 利用 Grab 套件的存取 HTML 資源\n",
    "* 利用 PyQuery 套件的解析 HTML 格式\n"
   ]
  },
  {
   "cell_type": "markdown",
   "metadata": {},
   "source": [
    "## 作業目標\n",
    "\n",
    "將之前用 requests + beatifulsoup 實作的方式，改寫成 grab + pyquery，並且比較有哪些地方不同。\n",
    "\n",
    "\n",
    "\n"
   ]
  },
  {
   "cell_type": "markdown",
   "metadata": {},
   "source": [
    "## requests + BeautifulSoup\n"
   ]
  },
  {
   "cell_type": "code",
   "execution_count": 20,
   "metadata": {},
   "outputs": [],
   "source": [
    "import requests\n",
    "from bs4 import BeautifulSoup\n",
    "url = 'https://www.ptt.cc/bbs/Beauty/M.1576427818.A.163.html'"
   ]
  },
  {
   "cell_type": "code",
   "execution_count": 23,
   "metadata": {},
   "outputs": [
    {
     "name": "stdout",
     "output_type": "stream",
     "text": [
      "<!DOCTYPE html>\n",
      "<html><head>\n",
      "\t\t<meta charset=\"utf-8\"/>\n",
      "\t\t\n",
      "\n",
      "<meta content=\"width=device-width, initial-scale=1\" name=\"viewport\"/>\n",
      "\n",
      "<title>[正妹] 我本來快睡著了 - 看板 Beauty - 批踢踢實業坊</title>\n",
      "<meta content=\"all\" name=\"robots\"/>\n",
      "<meta content=\"Ptt BBS 批踢踢\" name=\"keywords\"/>\n",
      "<meta content=\"https://i.imgur.com/Ba87Qsk.jpg\n",
      "https://i.imgur.com/4aRWfuj.jpg\n",
      "https://i.imgur.com/oykC0eA.jpg\n",
      "https://i.imgur.com/sMzToXD.jpg\n",
      "https://i.imgur.com/EVb7gN6.jpg\n",
      "\" name=\"description\"/>\n",
      "<meta content=\"Ptt 批踢踢實業坊\" property=\"og:site_name\"/>\n",
      "<meta content=\"[正妹] 我本來快睡著了\" property=\"og:title\"/>\n",
      "<meta content=\"https://i.imgur.com/Ba87Qsk.jpg\n",
      "https://i.imgur.com/4aRWfuj.jpg\n",
      "https://i.imgur.com/oykC0eA.jpg\n",
      "https://i.imgur.com/sMzToXD.jpg\n",
      "https://i.imgur.com/EVb7gN6.jpg\n",
      "\" property=\"og:description\"/>\n",
      "<link href=\"https://www.ptt.cc/bbs/Beauty/M.1576427818.A.163.html\" rel=\"canonical\"/>\n",
      "\n",
      "<link href=\"//images.ptt.cc/bbs/v2.27/bbs-common.css\" rel=\"stylesheet\" type=\"text/css\"/>\n",
      "<link href=\"//images.ptt.cc/bbs/v2.27/bbs-base.css\" media=\"screen\" rel=\"stylesheet\" type=\"text/css\"/>\n",
      "<link href=\"//images.ptt.cc/bbs/v2.27/bbs-custom.css\" rel=\"stylesheet\" type=\"text/css\"/>\n",
      "<link href=\"//images.ptt.cc/bbs/v2.27/pushstream.css\" media=\"screen\" rel=\"stylesheet\" type=\"text/css\"/>\n",
      "<link href=\"//images.ptt.cc/bbs/v2.27/bbs-print.css\" media=\"print\" rel=\"stylesheet\" type=\"text/css\"/>\n",
      "\n",
      "\n",
      "\n",
      "\n",
      "\t</head>\n",
      "    <body>\n",
      "\t\t\n",
      "<div id=\"topbar-container\">\n",
      "\t<div class=\"bbs-content\" id=\"topbar\">\n",
      "\t\t<a href=\"/bbs/\" id=\"logo\">批踢踢實業坊</a>\n",
      "\t\t<span>›</span>\n",
      "\t\t<a class=\"board\" href=\"/bbs/Beauty/index.html\"><span class=\"board-label\">看板 </span>Beauty</a>\n",
      "\t\t<a class=\"right small\" href=\"/about.html\">關於我們</a>\n",
      "\t\t<a class=\"right small\" href=\"/contact.html\">聯絡資訊</a>\n",
      "\t</div>\n",
      "</div>\n",
      "<div id=\"navigation-container\">\n",
      "\t<div class=\"bbs-content\" id=\"navigation\">\n",
      "\t\t<a class=\"board\" href=\"/bbs/Beauty/index.html\">返回看板</a>\n",
      "\t\t<div class=\"bar\"></div>\n",
      "\t</div>\n",
      "</div>\n",
      "<div id=\"main-container\">\n",
      "    <div class=\"bbs-screen bbs-content\" id=\"main-content\"><div class=\"article-metaline\"><span class=\"article-meta-tag\">作者</span><span class=\"article-meta-value\">g987669 (吃素一個月)</span></div><div class=\"article-metaline-right\"><span class=\"article-meta-tag\">看板</span><span class=\"article-meta-value\">Beauty</span></div><div class=\"article-metaline\"><span class=\"article-meta-tag\">標題</span><span class=\"article-meta-value\">[正妹] 我本來快睡著了</span></div><div class=\"article-metaline\"><span class=\"article-meta-tag\">時間</span><span class=\"article-meta-value\">Mon Dec 16 00:36:56 2019</span></div>\n",
      "\n",
      "<a href=\"https://i.imgur.com/Ba87Qsk.jpg\" rel=\"nofollow\" target=\"_blank\">https://i.imgur.com/Ba87Qsk.jpg</a>\n",
      "<div class=\"richcontent\"><blockquote class=\"imgur-embed-pub\" data-id=\"Ba87Qsk\" lang=\"en\"><a href=\"//imgur.com/Ba87Qsk\"></a></blockquote><script async=\"\" charset=\"utf-8\" src=\"//s.imgur.com/min/embed.js\"></script></div>\n",
      "<a href=\"https://i.imgur.com/4aRWfuj.jpg\" rel=\"nofollow\" target=\"_blank\">https://i.imgur.com/4aRWfuj.jpg</a>\n",
      "<div class=\"richcontent\"><blockquote class=\"imgur-embed-pub\" data-id=\"4aRWfuj\" lang=\"en\"><a href=\"//imgur.com/4aRWfuj\"></a></blockquote><script async=\"\" charset=\"utf-8\" src=\"//s.imgur.com/min/embed.js\"></script></div>\n",
      "<a href=\"https://i.imgur.com/oykC0eA.jpg\" rel=\"nofollow\" target=\"_blank\">https://i.imgur.com/oykC0eA.jpg</a>\n",
      "<div class=\"richcontent\"><blockquote class=\"imgur-embed-pub\" data-id=\"oykC0eA\" lang=\"en\"><a href=\"//imgur.com/oykC0eA\"></a></blockquote><script async=\"\" charset=\"utf-8\" src=\"//s.imgur.com/min/embed.js\"></script></div>\n",
      "<a href=\"https://i.imgur.com/sMzToXD.jpg\" rel=\"nofollow\" target=\"_blank\">https://i.imgur.com/sMzToXD.jpg</a>\n",
      "<div class=\"richcontent\"><blockquote class=\"imgur-embed-pub\" data-id=\"sMzToXD\" lang=\"en\"><a href=\"//imgur.com/sMzToXD\"></a></blockquote><script async=\"\" charset=\"utf-8\" src=\"//s.imgur.com/min/embed.js\"></script></div>\n",
      "<a href=\"https://i.imgur.com/EVb7gN6.jpg\" rel=\"nofollow\" target=\"_blank\">https://i.imgur.com/EVb7gN6.jpg</a>\n",
      "<div class=\"richcontent\"><blockquote class=\"imgur-embed-pub\" data-id=\"EVb7gN6\" lang=\"en\"><a href=\"//imgur.com/EVb7gN6\"></a></blockquote><script async=\"\" charset=\"utf-8\" src=\"//s.imgur.com/min/embed.js\"></script></div>\n",
      "-----\n",
      "Sent from JPTT on my iPhone\n",
      "\n",
      "--\n",
      "<span class=\"f2\">※ 發信站: 批踢踢實業坊(ptt.cc), 來自: 118.165.152.127 (臺灣)\n",
      "</span><span class=\"f2\">※ 文章網址: <a href=\"https://www.ptt.cc/bbs/Beauty/M.1576427818.A.163.html\" rel=\"nofollow\" target=\"_blank\">https://www.ptt.cc/bbs/Beauty/M.1576427818.A.163.html</a>\n",
      "</span><div class=\"push\"><span class=\"hl push-tag\">推 </span><span class=\"f3 hl push-userid\">gen5566</span><span class=\"f3 push-content\">: 素</span><span class=\"push-ipdatetime\">  111.83.147.11 12/16 00:40\n",
      "</span></div><div class=\"push\"><span class=\"hl push-tag\">推 </span><span class=\"f3 hl push-userid\">jieen0604</span><span class=\"f3 push-content\">: 挖</span><span class=\"push-ipdatetime\"> 223.139.96.211 12/16 00:42\n",
      "</span></div><div class=\"push\"><span class=\"hl push-tag\">推 </span><span class=\"f3 hl push-userid\">arthurhsu123</span><span class=\"f3 push-content\">: 我本來想</span><span class=\"push-ipdatetime\">  101.12.49.226 12/16 00:45\n",
      "</span></div><div class=\"push\"><span class=\"hl push-tag\">推 </span><span class=\"f3 hl push-userid\">blurish</span><span class=\"f3 push-content\">: 大聲斥責</span><span class=\"push-ipdatetime\"> 223.138.41.170 12/16 00:46\n",
      "</span></div><div class=\"push\"><span class=\"hl push-tag\">推 </span><span class=\"f3 hl push-userid\">chan7015</span><span class=\"f3 push-content\">: 實在太大了</span><span class=\"push-ipdatetime\">  114.137.208.0 12/16 00:51\n",
      "</span></div><div class=\"push\"><span class=\"hl push-tag\">推 </span><span class=\"f3 hl push-userid\">curlymonkey</span><span class=\"f3 push-content\">: 我本來不想睡的 已經好了</span><span class=\"push-ipdatetime\"> 223.136.156.80 12/16 01:20\n",
      "</span></div><div class=\"push\"><span class=\"hl push-tag\">推 </span><span class=\"f3 hl push-userid\">mgochen</span><span class=\"f3 push-content\">: 2求門</span><span class=\"push-ipdatetime\">140.115.200.100 12/16 01:56\n",
      "</span></div><div class=\"push\"><span class=\"hl push-tag\">推 </span><span class=\"f3 hl push-userid\">kirito1219</span><span class=\"f3 push-content\">: 波奇</span><span class=\"push-ipdatetime\">  27.247.129.79 12/16 02:00\n",
      "</span></div><div class=\"push\"><span class=\"hl push-tag\">推 </span><span class=\"f3 hl push-userid\">lysing12</span><span class=\"f3 push-content\">: 2 Iris</span><span class=\"push-ipdatetime\">  42.76.191.132 12/16 02:57\n",
      "</span></div><div class=\"push\"><span class=\"hl push-tag\">推 </span><span class=\"f3 hl push-userid\">lysing12</span><span class=\"f3 push-content\">: <a href=\"https://instagram.com/_dear_babylris_\" rel=\"nofollow\" target=\"_blank\">https://instagram.com/_dear_babylris_</a></span><span class=\"push-ipdatetime\">  42.76.191.132 12/16 03:01\n",
      "</span></div><div class=\"push\"><span class=\"f1 hl push-tag\">→ </span><span class=\"f3 hl push-userid\">lysing12</span><span class=\"f3 push-content\">:</span><span class=\"push-ipdatetime\">  42.76.191.132 12/16 03:01\n",
      "</span></div><div class=\"push\"><span class=\"hl push-tag\">推 </span><span class=\"f3 hl push-userid\">arcade0425</span><span class=\"f3 push-content\">: 本責但大</span><span class=\"push-ipdatetime\">   34.84.14.219 12/16 04:48\n",
      "</span></div><div class=\"push\"><span class=\"hl push-tag\">推 </span><span class=\"f3 hl push-userid\">mig21</span><span class=\"f3 push-content\">: 4,5請開門</span><span class=\"push-ipdatetime\">111.241.128.122 12/16 11:11\n",
      "</span></div><div class=\"push\"><span class=\"f1 hl push-tag\">→ </span><span class=\"f3 hl push-userid\">wayhowhown</span><span class=\"f3 push-content\">: 大聲斥責</span><span class=\"push-ipdatetime\">101.137.220.237 12/16 14:09\n",
      "</span></div><div class=\"push\"><span class=\"hl push-tag\">推 </span><span class=\"f3 hl push-userid\">lovelazy</span><span class=\"f3 push-content\">: 5人美心也美</span><span class=\"push-ipdatetime\">  59.125.13.122 12/16 15:44\n",
      "</span></div><div class=\"push\"><span class=\"hl push-tag\">推 </span><span class=\"f3 hl push-userid\">egg55889</span><span class=\"f3 push-content\">: 求3的門</span><span class=\"push-ipdatetime\">  61.70.194.186 12/17 10:45\n",
      "</span></div></div>\n",
      "    \n",
      "    <div data-longpollurl=\"/v1/longpoll?id=b6eff50d8a6cf80b7fa5f21636c8c26927c1dc53\" data-offset=\"2065\" data-pollurl=\"/poll/Beauty/M.1576427818.A.163.html?cacheKey=2084-610475034&amp;offset=2065&amp;offset-sig=ff55cbc40ac86e11acdaa3a1fa16fc85006c823c\" id=\"article-polling\"></div>\n",
      "    \n",
      "\n",
      "    \n",
      "<div class=\"bbs-screen bbs-footer-message\">本網站已依台灣網站內容分級規定處理。此區域為限制級，未滿十八歲者不得瀏覽。</div>\n",
      "\n",
      "</div>\n",
      "\n",
      "\t\t\n",
      "\n",
      "<script>\n",
      "  (function(i,s,o,g,r,a,m){i['GoogleAnalyticsObject']=r;i[r]=i[r]||function(){\n",
      "  (i[r].q=i[r].q||[]).push(arguments)},i[r].l=1*new Date();a=s.createElement(o),\n",
      "  m=s.getElementsByTagName(o)[0];a.async=1;a.src=g;m.parentNode.insertBefore(a,m)\n",
      "  })(window,document,'script','https://www.google-analytics.com/analytics.js','ga');\n",
      "\n",
      "  ga('create', 'UA-32365737-1', {\n",
      "    cookieDomain: 'ptt.cc',\n",
      "    legacyCookieDomain: 'ptt.cc'\n",
      "  });\n",
      "  ga('send', 'pageview');\n",
      "</script>\n",
      "\n",
      "\n",
      "\t\t\n",
      "<script src=\"//ajax.googleapis.com/ajax/libs/jquery/2.1.1/jquery.min.js\"></script>\n",
      "<script src=\"//images.ptt.cc/bbs/v2.27/bbs.js\"></script>\n",
      "\n",
      "    \n",
      "\n",
      "</body></html> \n",
      "\n",
      "<class 'bs4.element.NavigableString'> [正妹] 我本來快睡著了 - 看板 Beauty - 批踢踢實業坊\n"
     ]
    }
   ],
   "source": [
    "r = requests.get(url, cookies={'over18': '1'})\n",
    "r.encoding = 'utf-8'\n",
    "soup = BeautifulSoup(r.text, 'html5lib')\n",
    "print(soup, '\\n')\n",
    "title = soup.title.string\n",
    "print(type(title), title)"
   ]
  },
  {
   "cell_type": "markdown",
   "metadata": {},
   "source": [
    "## Grab + PyQuery"
   ]
  },
  {
   "cell_type": "code",
   "execution_count": 25,
   "metadata": {
    "scrolled": false
   },
   "outputs": [
    {
     "name": "stdout",
     "output_type": "stream",
     "text": [
      "<class 'pyquery.pyquery.PyQuery'> [正妹] 我本來快睡著了 - 看板 Beauty - 批踢踢實業坊\n"
     ]
    }
   ],
   "source": [
    "from grab import Grab\n",
    "g = Grab()\n",
    "resp = g.go(url, cookies={'over18': '1'})\n",
    "resp.body\n",
    "\n",
    "from pyquery import PyQuery as pq\n",
    "doc = pq(resp.body)\n",
    "title = doc('title')\n",
    "print(type(title), title.text())"
   ]
  },
  {
   "cell_type": "code",
   "execution_count": null,
   "metadata": {},
   "outputs": [],
   "source": []
  }
 ],
 "metadata": {
  "kernelspec": {
   "display_name": "Python 3",
   "language": "python",
   "name": "python3"
  },
  "language_info": {
   "codemirror_mode": {
    "name": "ipython",
    "version": 3
   },
   "file_extension": ".py",
   "mimetype": "text/x-python",
   "name": "python",
   "nbconvert_exporter": "python",
   "pygments_lexer": "ipython3",
   "version": "3.5.5"
  }
 },
 "nbformat": 4,
 "nbformat_minor": 2
}
